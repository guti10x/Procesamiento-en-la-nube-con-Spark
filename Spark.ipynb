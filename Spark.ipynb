{
 "cells": [
  {
   "cell_type": "markdown",
   "id": "f95323f5-0557-4c4d-ace7-1805cb81754a",
   "metadata": {},
   "source": [
    "Codigo de prueba Spark"
   ]
  },
  {
   "cell_type": "code",
   "execution_count": 2,
   "id": "90d94d23-34fd-4181-9a48-2be51979b424",
   "metadata": {},
   "outputs": [
    {
     "name": "stderr",
     "output_type": "stream",
     "text": [
      "Setting default log level to \"WARN\".\n",
      "To adjust logging level use sc.setLogLevel(newLevel). For SparkR, use setLogLevel(newLevel).\n",
      "2024-12-03 17:49:35,024 WARN util.NativeCodeLoader: Unable to load native-hadoop library for your platform... using builtin-java classes where applicable\n"
     ]
    },
    {
     "name": "stdout",
     "output_type": "stream",
     "text": [
      "3.2.1\n"
     ]
    }
   ],
   "source": [
    "import findspark\n",
    "findspark.init()\n",
    "\n",
    "from pyspark.sql import SparkSession\n",
    "\n",
    "spark = SparkSession.builder.master(\"local[*]\").appName(\"GoogleColabSpark\").getOrCreate()\n",
    "print(spark.version)"
   ]
  },
  {
   "cell_type": "markdown",
   "id": "b13e2669-2af6-4d89-93cf-86d1b1e45a0d",
   "metadata": {},
   "source": [
    "Se importa librerias necesarias"
   ]
  },
  {
   "cell_type": "code",
   "execution_count": 3,
   "id": "b250273f-e531-4b9b-b3e4-7c20038394eb",
   "metadata": {},
   "outputs": [],
   "source": [
    "import os\n",
    "import findspark\n",
    "from pyspark.sql import SparkSession\n",
    "from pyspark.sql.functions import col, avg, max, desc"
   ]
  },
  {
   "cell_type": "markdown",
   "id": "d9331ea7-74a7-4cc0-8eab-9d485cf55e66",
   "metadata": {},
   "source": [
    "Inicialización de Spark"
   ]
  },
  {
   "cell_type": "code",
   "execution_count": 4,
   "id": "6ec03802-ec7e-4000-a968-85df8fe43ea1",
   "metadata": {},
   "outputs": [],
   "source": [
    "spark=SparkSession.builder.master(\"local[*]\").appName(\"ProcesamientoCrimenEspaña\").getOrCreate()"
   ]
  },
  {
   "cell_type": "markdown",
   "id": "f311445c-2d18-4d1b-931a-fbe0c0c90e10",
   "metadata": {},
   "source": [
    "Se verifica la ruta adecuada"
   ]
  },
  {
   "cell_type": "code",
   "execution_count": 11,
   "id": "3de7f12b-afdf-48e2-a166-57ad7a640e5c",
   "metadata": {},
   "outputs": [
    {
     "name": "stdout",
     "output_type": "stream",
     "text": [
      "/home/221c1129yulbrynner/Procesamiento_Spark\n"
     ]
    }
   ],
   "source": [
    "import os\n",
    "print(os.getcwd())"
   ]
  },
  {
   "cell_type": "code",
   "execution_count": 26,
   "id": "336e1638-0bf6-4ba8-8347-8d0856f8e8b3",
   "metadata": {},
   "outputs": [],
   "source": [
    "#import os\n",
    "#os.chdir('/home/221c1129yulbrynner/Procesamiento_Spark')"
   ]
  },
  {
   "cell_type": "markdown",
   "id": "0fa73a6d-e8cf-4450-bb37-4f2119d2768b",
   "metadata": {},
   "source": [
    "Configuración para que use solo local"
   ]
  },
  {
   "cell_type": "code",
   "execution_count": 18,
   "id": "da854e47-7569-46a6-a89c-c2eb2485a458",
   "metadata": {},
   "outputs": [],
   "source": [
    "spark.conf.set(\"fs.defaultFS\", \"file:///\")"
   ]
  },
  {
   "cell_type": "markdown",
   "id": "3c86b1a7-b639-4c89-b1d9-f5232389aaad",
   "metadata": {},
   "source": [
    "Carga del dataset"
   ]
  },
  {
   "cell_type": "code",
   "execution_count": 19,
   "id": "6f039bdd-a2dc-4c0f-93b4-25a9916dc4d3",
   "metadata": {},
   "outputs": [],
   "source": [
    "ruta_csv=\"Tasa_de_crimen_España_2019_2021.csv\"\n",
    "datos_crimenes=spark.read.csv(ruta_csv, header=True, inferSchema=True)"
   ]
  },
  {
   "cell_type": "markdown",
   "id": "d76accac-4df6-400b-865c-2a7a8a206e24",
   "metadata": {},
   "source": [
    "Visualización del esquema de datos"
   ]
  },
  {
   "cell_type": "code",
   "execution_count": 20,
   "id": "6f4b62b4-b2a2-49ab-80d5-43b3affbf420",
   "metadata": {},
   "outputs": [
    {
     "name": "stdout",
     "output_type": "stream",
     "text": [
      "root\n",
      " |-- Location: string (nullable = true)\n",
      " |-- Year: integer (nullable = true)\n",
      " |-- Crime: string (nullable = true)\n",
      " |-- Total cases: integer (nullable = true)\n",
      "\n"
     ]
    }
   ],
   "source": [
    "datos_crimenes.printSchema()"
   ]
  }
 ],
 "metadata": {
  "kernelspec": {
   "display_name": "Python 3 (ipykernel)",
   "language": "python",
   "name": "python3"
  },
  "language_info": {
   "codemirror_mode": {
    "name": "ipython",
    "version": 3
   },
   "file_extension": ".py",
   "mimetype": "text/x-python",
   "name": "python",
   "nbconvert_exporter": "python",
   "pygments_lexer": "ipython3",
   "version": "3.10.12"
  }
 },
 "nbformat": 4,
 "nbformat_minor": 5
}
