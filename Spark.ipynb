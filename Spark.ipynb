{
 "cells": [
  {
   "cell_type": "markdown",
   "id": "f95323f5-0557-4c4d-ace7-1805cb81754a",
   "metadata": {},
   "source": [
    "Codigo de prueba Spark"
   ]
  },
  {
   "cell_type": "code",
   "execution_count": 2,
   "id": "90d94d23-34fd-4181-9a48-2be51979b424",
   "metadata": {},
   "outputs": [
    {
     "name": "stderr",
     "output_type": "stream",
     "text": [
      "Setting default log level to \"WARN\".\n",
      "To adjust logging level use sc.setLogLevel(newLevel). For SparkR, use setLogLevel(newLevel).\n",
      "2024-12-03 17:49:35,024 WARN util.NativeCodeLoader: Unable to load native-hadoop library for your platform... using builtin-java classes where applicable\n"
     ]
    },
    {
     "name": "stdout",
     "output_type": "stream",
     "text": [
      "3.2.1\n"
     ]
    }
   ],
   "source": [
    "import findspark\n",
    "findspark.init()\n",
    "\n",
    "from pyspark.sql import SparkSession\n",
    "\n",
    "spark = SparkSession.builder.master(\"local[*]\").appName(\"GoogleColabSpark\").getOrCreate()\n",
    "print(spark.version)"
   ]
  },
  {
   "cell_type": "markdown",
   "id": "b13e2669-2af6-4d89-93cf-86d1b1e45a0d",
   "metadata": {},
   "source": [
    "Se importa librerias necesarias"
   ]
  },
  {
   "cell_type": "code",
   "execution_count": 32,
   "id": "b250273f-e531-4b9b-b3e4-7c20038394eb",
   "metadata": {},
   "outputs": [],
   "source": [
    "import os\n",
    "import findspark\n",
    "from pyspark.sql import SparkSession\n",
    "from pyspark.sql.functions import col, avg, max, desc"
   ]
  },
  {
   "cell_type": "markdown",
   "id": "d9331ea7-74a7-4cc0-8eab-9d485cf55e66",
   "metadata": {},
   "source": [
    "Inicialización de Spark"
   ]
  },
  {
   "cell_type": "code",
   "execution_count": 33,
   "id": "6ec03802-ec7e-4000-a968-85df8fe43ea1",
   "metadata": {},
   "outputs": [],
   "source": [
    "spark=SparkSession.builder.master(\"local[*]\").appName(\"ProcesamientoCrimenEspaña\").getOrCreate()"
   ]
  },
  {
   "cell_type": "markdown",
   "id": "f311445c-2d18-4d1b-931a-fbe0c0c90e10",
   "metadata": {},
   "source": [
    "Se verifica la ruta adecuada"
   ]
  },
  {
   "cell_type": "code",
   "execution_count": 34,
   "id": "3de7f12b-afdf-48e2-a166-57ad7a640e5c",
   "metadata": {},
   "outputs": [
    {
     "name": "stdout",
     "output_type": "stream",
     "text": [
      "/home/221c1129yulbrynner/Procesamiento_Spark\n"
     ]
    }
   ],
   "source": [
    "import os\n",
    "print(os.getcwd())"
   ]
  },
  {
   "cell_type": "code",
   "execution_count": 26,
   "id": "336e1638-0bf6-4ba8-8347-8d0856f8e8b3",
   "metadata": {},
   "outputs": [],
   "source": [
    "#import os\n",
    "#os.chdir('/home/221c1129yulbrynner/Procesamiento_Spark')"
   ]
  },
  {
   "cell_type": "markdown",
   "id": "0fa73a6d-e8cf-4450-bb37-4f2119d2768b",
   "metadata": {},
   "source": [
    "Configuración para que use solo local"
   ]
  },
  {
   "cell_type": "code",
   "execution_count": 35,
   "id": "da854e47-7569-46a6-a89c-c2eb2485a458",
   "metadata": {},
   "outputs": [],
   "source": [
    "spark.conf.set(\"fs.defaultFS\", \"file:///\")"
   ]
  },
  {
   "cell_type": "markdown",
   "id": "3c86b1a7-b639-4c89-b1d9-f5232389aaad",
   "metadata": {},
   "source": [
    "Carga del dataset"
   ]
  },
  {
   "cell_type": "code",
   "execution_count": 36,
   "id": "6f039bdd-a2dc-4c0f-93b4-25a9916dc4d3",
   "metadata": {},
   "outputs": [],
   "source": [
    "ruta_csv=\"Tasa_de_crimen_España_2019_2021.csv\"\n",
    "datos_crimenes=spark.read.csv(ruta_csv, header=True, inferSchema=True)"
   ]
  },
  {
   "cell_type": "markdown",
   "id": "d76accac-4df6-400b-865c-2a7a8a206e24",
   "metadata": {},
   "source": [
    "Visualización del esquema de datos"
   ]
  },
  {
   "cell_type": "code",
   "execution_count": 37,
   "id": "6f4b62b4-b2a2-49ab-80d5-43b3affbf420",
   "metadata": {},
   "outputs": [
    {
     "name": "stdout",
     "output_type": "stream",
     "text": [
      "root\n",
      " |-- Location: string (nullable = true)\n",
      " |-- Year: integer (nullable = true)\n",
      " |-- Crime: string (nullable = true)\n",
      " |-- Total cases: integer (nullable = true)\n",
      "\n"
     ]
    }
   ],
   "source": [
    "datos_crimenes.printSchema()"
   ]
  },
  {
   "cell_type": "markdown",
   "id": "3cf7e80f-7a1c-4384-8b37-6bfde4f5f160",
   "metadata": {},
   "source": [
    "Tasa de crimen promedio por año"
   ]
  },
  {
   "cell_type": "code",
   "execution_count": 38,
   "id": "16d7dcdd-cf1c-422b-9bb5-c1d6183a5920",
   "metadata": {},
   "outputs": [
    {
     "name": "stdout",
     "output_type": "stream",
     "text": [
      "+----+-----------------+\n",
      "|Year|    Tasa_promedio|\n",
      "+----+-----------------+\n",
      "|2019|6562.745535714285|\n",
      "|2020|4991.915178571428|\n",
      "|2021|5803.651785714285|\n",
      "+----+-----------------+\n",
      "\n"
     ]
    }
   ],
   "source": [
    "tasa_promedio_anual = datos_crimenes.groupBy(\"Year\").agg(avg(col(\"Total cases\")).alias(\"Tasa_promedio\"))\n",
    "tasa_promedio_anual.show()"
   ]
  },
  {
   "cell_type": "markdown",
   "id": "203e199b-c79f-43ae-82c3-7f6fe454664b",
   "metadata": {},
   "source": [
    "Ciudad con mayor tasa de crimen en cada año"
   ]
  },
  {
   "cell_type": "code",
   "execution_count": 39,
   "id": "48a1f998-93ea-4a0d-be42-797378d91b7e",
   "metadata": {},
   "outputs": [
    {
     "name": "stdout",
     "output_type": "stream",
     "text": [
      "+----+---------+-----------+\n",
      "|Year| Location|Tasa_maxima|\n",
      "+----+---------+-----------+\n",
      "|2019|   Madrid|     205312|\n",
      "|2021|   Madrid|     197970|\n",
      "|2020|   Madrid|     181917|\n",
      "|2019|Barcelona|     165901|\n",
      "|2021|Barcelona|     152565|\n",
      "|2020|Barcelona|     135216|\n",
      "|2021| Valencia|      74380|\n",
      "|2019| Valencia|      68853|\n",
      "|2020| Valencia|      64822|\n",
      "|2021| Alicante|      49211|\n",
      "|2021|  Seville|      48461|\n",
      "|2019|  Seville|      48365|\n",
      "|2019| Alicante|      48178|\n",
      "|2021|   Malaga|      47803|\n",
      "|2020|  Seville|      46704|\n",
      "|2020| Alicante|      45607|\n",
      "|2019|   Malaga|      44516|\n",
      "|2020|   Malaga|      42372|\n",
      "|2021|   Murcia|      37088|\n",
      "|2020|   Murcia|      32819|\n",
      "+----+---------+-----------+\n",
      "only showing top 20 rows\n",
      "\n"
     ]
    }
   ],
   "source": [
    "ciudad_maxim_crimen = datos_crimenes.groupBy(\"Year\", \"Location\").agg(max(col(\"Total cases\")).alias(\"Tasa_maxima\"))\n",
    "ciudad_maxim_crimen.orderBy(desc(\"Tasa_maxima\")).show()"
   ]
  },
  {
   "cell_type": "markdown",
   "id": "eaf40241-d700-4ae8-a059-fb0fc5293a5d",
   "metadata": {},
   "source": [
    "Tipo de crimen con tasa más baja"
   ]
  },
  {
   "cell_type": "code",
   "execution_count": 40,
   "id": "4d56830a-b314-46ce-aa52-19a9b59a69ea",
   "metadata": {},
   "outputs": [
    {
     "name": "stdout",
     "output_type": "stream",
     "text": [
      "+--------------------+------------------+\n",
      "|               Crime|     Tasa_promedio|\n",
      "+--------------------+------------------+\n",
      "|          Kidnapping|            3.1875|\n",
      "|Intentional homic...|11.291666666666666|\n",
      "|Intentional homic...|             34.25|\n",
      "|Sexual assault wi...| 70.70833333333333|\n",
      "|Other crimes agai...|           495.625|\n",
      "|Crimes against fr...| 566.3541666666666|\n",
      "|Serious and less ...| 663.4166666666666|\n",
      "|    Drug trafficking| 681.3958333333334|\n",
      "|       Vehicle theft|1345.6041666666667|\n",
      "|Robbery with viol...|2801.8541666666665|\n",
      "|Robberies with fo...|3143.9583333333335|\n",
      "|Burglaries with f...|3535.2083333333335|\n",
      "|               Theft|23808.645833333332|\n",
      "|Other criminal of...|43843.958333333336|\n",
      "+--------------------+------------------+\n",
      "\n"
     ]
    }
   ],
   "source": [
    "tipo_crimen_minim=datos_crimenes.groupBy(\"Crime\").agg(avg(col(\"Total cases\")).alias(\"Tasa_promedio\"))\n",
    "tipo_crimen_minim.orderBy(\"Tasa_promedio\").show()"
   ]
  },
  {
   "cell_type": "markdown",
   "id": "4f6c662e-f81e-4bbc-8083-86cf42aa1c47",
   "metadata": {},
   "source": [
    "Guardar resultados procesados"
   ]
  },
  {
   "cell_type": "markdown",
   "id": "34664db5-3e78-4fcf-a3c2-3e5f83a28abf",
   "metadata": {},
   "source": [
    "Se guarda datos de la tasa promedio actual"
   ]
  },
  {
   "cell_type": "code",
   "execution_count": 42,
   "id": "0eec0208-c9cf-4cd2-b94a-504ce6f4e5c4",
   "metadata": {},
   "outputs": [],
   "source": [
    "ruta_salida_tasa_promedio = \"tasa_promedio_anual.csv\"\n",
    "tasa_promedio_anual.coalesce(1).write.csv(ruta_salida_tasa_promedio, header=True, mode=\"overwrite\")"
   ]
  },
  {
   "cell_type": "code",
   "execution_count": 45,
   "id": "c6caca2d-e38a-4d29-ae66-1c7365ce0d07",
   "metadata": {},
   "outputs": [],
   "source": [
    "ruta_salida_ciudad_max = \"ciudad_maximo_crimen.csv\"\n",
    "ciudad_maxim_crimen.coalesce(1).write.csv(ruta_salida_ciudad_max, header=True, mode=\"overwrite\")"
   ]
  },
  {
   "cell_type": "code",
   "execution_count": 44,
   "id": "7a6e96f1-84d9-4521-9ce4-d8ef2733f9e7",
   "metadata": {},
   "outputs": [],
   "source": [
    "ruta_salida_tipo_crimen_min = \"tipo_crimen_minimo.csv\"\n",
    "tipo_crimen_minim.coalesce(1).write.csv(ruta_salida_tipo_crimen_min, header=True, mode=\"overwrite\")"
   ]
  },
  {
   "cell_type": "code",
   "execution_count": null,
   "id": "ae4424fe-4d9d-4b12-8c2f-5b186d99a2a8",
   "metadata": {},
   "outputs": [],
   "source": []
  }
 ],
 "metadata": {
  "kernelspec": {
   "display_name": "Python 3 (ipykernel)",
   "language": "python",
   "name": "python3"
  },
  "language_info": {
   "codemirror_mode": {
    "name": "ipython",
    "version": 3
   },
   "file_extension": ".py",
   "mimetype": "text/x-python",
   "name": "python",
   "nbconvert_exporter": "python",
   "pygments_lexer": "ipython3",
   "version": "3.10.12"
  }
 },
 "nbformat": 4,
 "nbformat_minor": 5
}
